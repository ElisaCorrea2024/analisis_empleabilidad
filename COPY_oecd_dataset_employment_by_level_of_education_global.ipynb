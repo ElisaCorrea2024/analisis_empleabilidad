{
 "cells": [
  {
   "cell_type": "markdown",
   "id": "d3d1a651-0da3-4f7d-b3fb-dfd2a133ea95",
   "metadata": {},
   "source": [
    "# Llamada a la API "
   ]
  },
  {
   "cell_type": "code",
   "execution_count": 17,
   "id": "837a9f57-c939-44ad-8eda-fce18c3727da",
   "metadata": {},
   "outputs": [],
   "source": [
    "import requests\n",
    "import pandas as pd\n",
    "\n",
    "# URL ajustada para el dataset específico de la OCDE desde la API, incluyendo datos de empleo por nivel educativo\n",
    "url = \"https://sdmx.oecd.org/public/rest/data/OECD.CFE.EDS,DSD_REG_EDU@DF_EMP,2.0/all?startPeriod=2013&dimensionAtObservation=AllDimensions\"\n",
    "\n",
    "# Encabezado para solicitar el formato JSON\n",
    "headers = {\n",
    "    \"Accept\": \"application/vnd.sdmx.data+json; charset=utf-8; version=1.0\"\n",
    "}\n",
    "\n",
    "# Realizar la solicitud a la API con un tiempo de espera extendido en caso de demoras\n",
    "response = requests.get(url, headers=headers, timeout=30)\n"
   ]
  },
  {
   "cell_type": "markdown",
   "id": "186edc1a-0100-4dc7-8e5c-53d447e60f67",
   "metadata": {},
   "source": [
    "# Verificación del Estado de la Solicitud"
   ]
  },
  {
   "cell_type": "code",
   "execution_count": 18,
   "id": "4743fd96-c3be-419c-992a-c834c8f988fb",
   "metadata": {},
   "outputs": [
    {
     "name": "stdout",
     "output_type": "stream",
     "text": [
      "Datos recibidos con éxito\n"
     ]
    }
   ],
   "source": [
    "# Verificar el estado de la solicitud\n",
    "if response.status_code == 200:\n",
    "    print(\"Datos recibidos con éxito\")\n",
    "else:\n",
    "    print(\"Error en la solicitud:\", response.status_code)"
   ]
  },
  {
   "cell_type": "markdown",
   "id": "ed11266b-c5cb-4dd9-8b4a-abf55fc9c043",
   "metadata": {},
   "source": [
    "# Comprobación del Dataset"
   ]
  },
  {
   "cell_type": "code",
   "execution_count": 23,
   "id": "dd5d732a-768d-4a57-aa65-3879fc2b1048",
   "metadata": {},
   "outputs": [
    {
     "name": "stdout",
     "output_type": "stream",
     "text": [
      "Datos recibidos con éxito\n"
     ]
    }
   ],
   "source": [
    "if response.status_code == 200:\n",
    "    data = response.json()  # Asignar el JSON de respuesta a la variable 'data'\n",
    "    print(\"Datos recibidos con éxito\")\n",
    "else:\n",
    "    print(\"Error en la solicitud:\", response.status_code)\n"
   ]
  },
  {
   "cell_type": "markdown",
   "id": "4003eec5-9477-484c-ad83-ca44abaa922c",
   "metadata": {},
   "source": [
    "# Obtener los Nombres de las Columnas Directamente del Dataset"
   ]
  },
  {
   "cell_type": "code",
   "execution_count": 33,
   "id": "a342e9e4-fd07-4e40-afb4-ad266b0012e0",
   "metadata": {},
   "outputs": [
    {
     "name": "stdout",
     "output_type": "stream",
     "text": [
      "Nombres de las columnas extraídas automáticamente: ['Frequency of observation', 'Territorial level', 'Reference area', 'Territorial typology', 'Measure', 'Age', 'Sex', 'Education level', 'Statistical operation', 'Unit of measure', 'Time period']\n"
     ]
    }
   ],
   "source": [
    "if response.status_code == 200:\n",
    "    data = response.json()\n",
    "    if 'structure' in data['data'] and 'dimensions' in data['data']['structure']:\n",
    "        dimension_labels = [dim['name'] for dim in data['data']['structure']['dimensions']['observation']]\n",
    "        print(\"Nombres de las columnas extraídas automáticamente:\", dimension_labels)\n",
    "    else:\n",
    "        print(\"Estructura de dimensiones no encontrada en la respuesta.\")\n"
   ]
  },
  {
   "cell_type": "markdown",
   "id": "61a72068-e1be-494b-bb71-2434feeeebd0",
   "metadata": {},
   "source": [
    "# Extracción y Estructuración de Datos en un DataFrame"
   ]
  },
  {
   "cell_type": "code",
   "execution_count": 38,
   "id": "7c0fd3da-e950-4598-9434-b3494a92aebd",
   "metadata": {},
   "outputs": [
    {
     "name": "stdout",
     "output_type": "stream",
     "text": [
      "DataFrame creado con éxito\n"
     ]
    }
   ],
   "source": [
    "# Crear listas vacías para almacenar los datos estructurados\n",
    "records = []\n",
    "\n",
    "# Verificar que la estructura del JSON contenga observaciones y extraerlas\n",
    "if 'dataSets' in data['data']:\n",
    "    observations = data['data']['dataSets'][0]['observations']\n",
    "    \n",
    "    # Extraer los datos de observación y construir los registros en el DataFrame\n",
    "    for key, value in observations.items():\n",
    "        # Convertir la clave en índices de dimensiones\n",
    "        indices = key.split(':')\n",
    "        \n",
    "        # Crear un diccionario para la observación actual con las dimensiones mapeadas\n",
    "        record = {dimension_labels[i]: indices[i] for i in range(len(indices))}\n",
    "        record[\"Value\"] = value[0]  # El valor de la observación\n",
    "        \n",
    "        # Agregar el registro a la lista de registros\n",
    "        records.append(record)\n",
    "\n",
    "    # Convertir a un DataFrame de pandas\n",
    "    df = pd.DataFrame(records)\n",
    "    print(\"DataFrame creado con éxito\")\n",
    "else:\n",
    "    print(\"Observaciones no encontradas en la respuesta.\")\n"
   ]
  },
  {
   "cell_type": "markdown",
   "id": "52ae73a6-2832-46ff-b804-8ebc0b9e171e",
   "metadata": {},
   "source": [
    "# Mostrar las Primeras Filas del DataFrame"
   ]
  },
  {
   "cell_type": "code",
   "execution_count": 41,
   "id": "dfe087f0-ef7e-4e7f-b0cc-b57e1df2174a",
   "metadata": {},
   "outputs": [
    {
     "data": {
      "text/html": [
       "<div>\n",
       "<style scoped>\n",
       "    .dataframe tbody tr th:only-of-type {\n",
       "        vertical-align: middle;\n",
       "    }\n",
       "\n",
       "    .dataframe tbody tr th {\n",
       "        vertical-align: top;\n",
       "    }\n",
       "\n",
       "    .dataframe thead th {\n",
       "        text-align: right;\n",
       "    }\n",
       "</style>\n",
       "<table border=\"1\" class=\"dataframe\">\n",
       "  <thead>\n",
       "    <tr style=\"text-align: right;\">\n",
       "      <th></th>\n",
       "      <th>Frequency of observation</th>\n",
       "      <th>Territorial level</th>\n",
       "      <th>Reference area</th>\n",
       "      <th>Territorial typology</th>\n",
       "      <th>Measure</th>\n",
       "      <th>Age</th>\n",
       "      <th>Sex</th>\n",
       "      <th>Education level</th>\n",
       "      <th>Statistical operation</th>\n",
       "      <th>Unit of measure</th>\n",
       "      <th>Time period</th>\n",
       "      <th>Value</th>\n",
       "    </tr>\n",
       "  </thead>\n",
       "  <tbody>\n",
       "    <tr>\n",
       "      <th>0</th>\n",
       "      <td>0</td>\n",
       "      <td>0</td>\n",
       "      <td>0</td>\n",
       "      <td>0</td>\n",
       "      <td>0</td>\n",
       "      <td>0</td>\n",
       "      <td>0</td>\n",
       "      <td>0</td>\n",
       "      <td>0</td>\n",
       "      <td>0</td>\n",
       "      <td>0</td>\n",
       "      <td>1.409</td>\n",
       "    </tr>\n",
       "    <tr>\n",
       "      <th>1</th>\n",
       "      <td>0</td>\n",
       "      <td>0</td>\n",
       "      <td>0</td>\n",
       "      <td>0</td>\n",
       "      <td>0</td>\n",
       "      <td>0</td>\n",
       "      <td>0</td>\n",
       "      <td>0</td>\n",
       "      <td>0</td>\n",
       "      <td>0</td>\n",
       "      <td>1</td>\n",
       "      <td>1.176</td>\n",
       "    </tr>\n",
       "    <tr>\n",
       "      <th>2</th>\n",
       "      <td>0</td>\n",
       "      <td>0</td>\n",
       "      <td>0</td>\n",
       "      <td>0</td>\n",
       "      <td>0</td>\n",
       "      <td>0</td>\n",
       "      <td>0</td>\n",
       "      <td>0</td>\n",
       "      <td>0</td>\n",
       "      <td>0</td>\n",
       "      <td>2</td>\n",
       "      <td>1.187</td>\n",
       "    </tr>\n",
       "    <tr>\n",
       "      <th>3</th>\n",
       "      <td>0</td>\n",
       "      <td>0</td>\n",
       "      <td>0</td>\n",
       "      <td>0</td>\n",
       "      <td>0</td>\n",
       "      <td>0</td>\n",
       "      <td>0</td>\n",
       "      <td>0</td>\n",
       "      <td>0</td>\n",
       "      <td>0</td>\n",
       "      <td>3</td>\n",
       "      <td>1.022</td>\n",
       "    </tr>\n",
       "    <tr>\n",
       "      <th>4</th>\n",
       "      <td>0</td>\n",
       "      <td>0</td>\n",
       "      <td>0</td>\n",
       "      <td>0</td>\n",
       "      <td>0</td>\n",
       "      <td>0</td>\n",
       "      <td>0</td>\n",
       "      <td>0</td>\n",
       "      <td>0</td>\n",
       "      <td>0</td>\n",
       "      <td>4</td>\n",
       "      <td>1.277</td>\n",
       "    </tr>\n",
       "  </tbody>\n",
       "</table>\n",
       "</div>"
      ],
      "text/plain": [
       "  Frequency of observation Territorial level Reference area  \\\n",
       "0                        0                 0              0   \n",
       "1                        0                 0              0   \n",
       "2                        0                 0              0   \n",
       "3                        0                 0              0   \n",
       "4                        0                 0              0   \n",
       "\n",
       "  Territorial typology Measure Age Sex Education level Statistical operation  \\\n",
       "0                    0       0   0   0               0                     0   \n",
       "1                    0       0   0   0               0                     0   \n",
       "2                    0       0   0   0               0                     0   \n",
       "3                    0       0   0   0               0                     0   \n",
       "4                    0       0   0   0               0                     0   \n",
       "\n",
       "  Unit of measure Time period  Value  \n",
       "0               0           0  1.409  \n",
       "1               0           1  1.176  \n",
       "2               0           2  1.187  \n",
       "3               0           3  1.022  \n",
       "4               0           4  1.277  "
      ]
     },
     "execution_count": 41,
     "metadata": {},
     "output_type": "execute_result"
    }
   ],
   "source": [
    "# Mostrar las primeras filas del DataFrame\n",
    "df.head()\n"
   ]
  },
  {
   "cell_type": "markdown",
   "id": "bac47abf-de2a-4998-a99f-d4f7f7ce9692",
   "metadata": {},
   "source": [
    "# Información General del DataFrame. Valores No Nulos"
   ]
  },
  {
   "cell_type": "code",
   "execution_count": 45,
   "id": "f96a8e78-4f0c-4d64-a2f0-568231999929",
   "metadata": {},
   "outputs": [
    {
     "name": "stdout",
     "output_type": "stream",
     "text": [
      "<class 'pandas.core.frame.DataFrame'>\n",
      "RangeIndex: 215469 entries, 0 to 215468\n",
      "Data columns (total 12 columns):\n",
      " #   Column                    Non-Null Count   Dtype  \n",
      "---  ------                    --------------   -----  \n",
      " 0   Frequency of observation  215469 non-null  object \n",
      " 1   Territorial level         215469 non-null  object \n",
      " 2   Reference area            215469 non-null  object \n",
      " 3   Territorial typology      215469 non-null  object \n",
      " 4   Measure                   215469 non-null  object \n",
      " 5   Age                       215469 non-null  object \n",
      " 6   Sex                       215469 non-null  object \n",
      " 7   Education level           215469 non-null  object \n",
      " 8   Statistical operation     215469 non-null  object \n",
      " 9   Unit of measure           215469 non-null  object \n",
      " 10  Time period               215469 non-null  object \n",
      " 11  Value                     215469 non-null  float64\n",
      "dtypes: float64(1), object(11)\n",
      "memory usage: 19.7+ MB\n"
     ]
    }
   ],
   "source": [
    "# Información general del DataFrame\n",
    "df.info()\n"
   ]
  },
  {
   "cell_type": "markdown",
   "id": "affdd7b0-e3f0-479b-9218-4eb1aa3aebd0",
   "metadata": {},
   "source": [
    "# Exportación de Datos a un Archivo CSV"
   ]
  },
  {
   "cell_type": "code",
   "execution_count": 53,
   "id": "c83d50ba-69d5-40ea-b46c-5e938d8cece3",
   "metadata": {},
   "outputs": [
    {
     "name": "stdout",
     "output_type": "stream",
     "text": [
      "El DataFrame se ha guardado en el archivo 'ocde_data_education_unfiltered.csv'\n"
     ]
    }
   ],
   "source": [
    "# Guardar el DataFrame en un archivo CSV\n",
    "df.to_csv(\"ocde_data_education_unfiltered.csv\", index=False)\n",
    "print(\"El DataFrame se ha guardado en el archivo 'ocde_data_education_unfiltered.csv'\")\n"
   ]
  },
  {
   "cell_type": "code",
   "execution_count": null,
   "id": "bbcf46aa-1630-42d4-8354-b692579495bf",
   "metadata": {},
   "outputs": [],
   "source": []
  }
 ],
 "metadata": {
  "kernelspec": {
   "display_name": "Python 3 (ipykernel)",
   "language": "python",
   "name": "python3"
  },
  "language_info": {
   "codemirror_mode": {
    "name": "ipython",
    "version": 3
   },
   "file_extension": ".py",
   "mimetype": "text/x-python",
   "name": "python",
   "nbconvert_exporter": "python",
   "pygments_lexer": "ipython3",
   "version": "3.12.4"
  }
 },
 "nbformat": 4,
 "nbformat_minor": 5
}
