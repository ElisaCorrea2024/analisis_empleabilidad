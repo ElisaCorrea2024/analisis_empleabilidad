{
 "cells": [
  {
   "cell_type": "markdown",
   "id": "a2dc8018-4319-4c28-8d99-9f430bb89ba8",
   "metadata": {},
   "source": [
    "# Importar Pandas y Cargar el Dataset"
   ]
  },
  {
   "cell_type": "code",
   "execution_count": 2,
   "id": "cdd73488-3336-4a4f-9c16-bd8fcfb1e6d4",
   "metadata": {},
   "outputs": [
    {
     "name": "stdout",
     "output_type": "stream",
     "text": [
      "Nombres de las columnas en el DataFrame:\n",
      "Index(['Frequency', 'Territorial Level', 'Location', 'Territorial Typology',\n",
      "       'Measure', 'Age', 'Sex', 'Education Level', 'Statistical Operation',\n",
      "       'Unit Measure', 'Year', 'Value'],\n",
      "      dtype='object')\n"
     ]
    },
    {
     "data": {
      "text/html": [
       "<div>\n",
       "<style scoped>\n",
       "    .dataframe tbody tr th:only-of-type {\n",
       "        vertical-align: middle;\n",
       "    }\n",
       "\n",
       "    .dataframe tbody tr th {\n",
       "        vertical-align: top;\n",
       "    }\n",
       "\n",
       "    .dataframe thead th {\n",
       "        text-align: right;\n",
       "    }\n",
       "</style>\n",
       "<table border=\"1\" class=\"dataframe\">\n",
       "  <thead>\n",
       "    <tr style=\"text-align: right;\">\n",
       "      <th></th>\n",
       "      <th>Frequency</th>\n",
       "      <th>Territorial Level</th>\n",
       "      <th>Location</th>\n",
       "      <th>Territorial Typology</th>\n",
       "      <th>Measure</th>\n",
       "      <th>Age</th>\n",
       "      <th>Sex</th>\n",
       "      <th>Education Level</th>\n",
       "      <th>Statistical Operation</th>\n",
       "      <th>Unit Measure</th>\n",
       "      <th>Year</th>\n",
       "      <th>Value</th>\n",
       "    </tr>\n",
       "  </thead>\n",
       "  <tbody>\n",
       "    <tr>\n",
       "      <th>0</th>\n",
       "      <td>0</td>\n",
       "      <td>0</td>\n",
       "      <td>0</td>\n",
       "      <td>0</td>\n",
       "      <td>0</td>\n",
       "      <td>0</td>\n",
       "      <td>0</td>\n",
       "      <td>0</td>\n",
       "      <td>0</td>\n",
       "      <td>0</td>\n",
       "      <td>0</td>\n",
       "      <td>1.409</td>\n",
       "    </tr>\n",
       "    <tr>\n",
       "      <th>1</th>\n",
       "      <td>0</td>\n",
       "      <td>0</td>\n",
       "      <td>0</td>\n",
       "      <td>0</td>\n",
       "      <td>0</td>\n",
       "      <td>0</td>\n",
       "      <td>0</td>\n",
       "      <td>0</td>\n",
       "      <td>0</td>\n",
       "      <td>0</td>\n",
       "      <td>1</td>\n",
       "      <td>1.176</td>\n",
       "    </tr>\n",
       "    <tr>\n",
       "      <th>2</th>\n",
       "      <td>0</td>\n",
       "      <td>0</td>\n",
       "      <td>0</td>\n",
       "      <td>0</td>\n",
       "      <td>0</td>\n",
       "      <td>0</td>\n",
       "      <td>0</td>\n",
       "      <td>0</td>\n",
       "      <td>0</td>\n",
       "      <td>0</td>\n",
       "      <td>2</td>\n",
       "      <td>1.187</td>\n",
       "    </tr>\n",
       "    <tr>\n",
       "      <th>3</th>\n",
       "      <td>0</td>\n",
       "      <td>0</td>\n",
       "      <td>0</td>\n",
       "      <td>0</td>\n",
       "      <td>0</td>\n",
       "      <td>0</td>\n",
       "      <td>0</td>\n",
       "      <td>0</td>\n",
       "      <td>0</td>\n",
       "      <td>0</td>\n",
       "      <td>3</td>\n",
       "      <td>1.022</td>\n",
       "    </tr>\n",
       "    <tr>\n",
       "      <th>4</th>\n",
       "      <td>0</td>\n",
       "      <td>0</td>\n",
       "      <td>0</td>\n",
       "      <td>0</td>\n",
       "      <td>0</td>\n",
       "      <td>0</td>\n",
       "      <td>0</td>\n",
       "      <td>0</td>\n",
       "      <td>0</td>\n",
       "      <td>0</td>\n",
       "      <td>4</td>\n",
       "      <td>1.277</td>\n",
       "    </tr>\n",
       "  </tbody>\n",
       "</table>\n",
       "</div>"
      ],
      "text/plain": [
       "   Frequency  Territorial Level  Location  Territorial Typology  Measure  Age  \\\n",
       "0          0                  0         0                     0        0    0   \n",
       "1          0                  0         0                     0        0    0   \n",
       "2          0                  0         0                     0        0    0   \n",
       "3          0                  0         0                     0        0    0   \n",
       "4          0                  0         0                     0        0    0   \n",
       "\n",
       "   Sex  Education Level  Statistical Operation  Unit Measure  Year  Value  \n",
       "0    0                0                      0             0     0  1.409  \n",
       "1    0                0                      0             0     1  1.176  \n",
       "2    0                0                      0             0     2  1.187  \n",
       "3    0                0                      0             0     3  1.022  \n",
       "4    0                0                      0             0     4  1.277  "
      ]
     },
     "execution_count": 2,
     "metadata": {},
     "output_type": "execute_result"
    }
   ],
   "source": [
    "import pandas as pd\n",
    "\n",
    "# Cargar el dataset desde el archivo CSV\n",
    "df = pd.read_csv(\"ocde_data_education_unfiltered.csv\")\n",
    "\n",
    "# Verificar los nombres de las columnas y las primeras filas para entender la estructura\n",
    "print(\"Nombres de las columnas en el DataFrame:\")\n",
    "print(df.columns)\n",
    "\n",
    "# Mostrar las primeras filas para visualizar el contenido\n",
    "df.head()\n"
   ]
  },
  {
   "cell_type": "markdown",
   "id": "2543a2d2-28ee-447b-bfee-a462e1abd6db",
   "metadata": {},
   "source": [
    "# Identificación de Valores Faltantes"
   ]
  },
  {
   "cell_type": "code",
   "execution_count": 4,
   "id": "a8afdec6-30a1-4dd9-800f-af2743094092",
   "metadata": {},
   "outputs": [
    {
     "name": "stdout",
     "output_type": "stream",
     "text": [
      "Valores faltantes por columna:\n",
      "Frequency                0\n",
      "Territorial Level        0\n",
      "Location                 0\n",
      "Territorial Typology     0\n",
      "Measure                  0\n",
      "Age                      0\n",
      "Sex                      0\n",
      "Education Level          0\n",
      "Statistical Operation    0\n",
      "Unit Measure             0\n",
      "Year                     0\n",
      "Value                    0\n",
      "dtype: int64\n"
     ]
    }
   ],
   "source": [
    "# Verificar la cantidad de valores faltantes en cada columna\n",
    "print(\"Valores faltantes por columna:\")\n",
    "print(df.isnull().sum())\n"
   ]
  },
  {
   "cell_type": "markdown",
   "id": "519d3c8d-653a-48f5-b8ce-d14a99fbe338",
   "metadata": {},
   "source": [
    "# Identificar valores únicos en columnas específicas"
   ]
  },
  {
   "cell_type": "code",
   "execution_count": 6,
   "id": "bf68d1a6-394f-48f2-a56a-9b60c7df795d",
   "metadata": {},
   "outputs": [
    {
     "name": "stdout",
     "output_type": "stream",
     "text": [
      "Valores únicos en la columna 'Education Level':\n",
      "[0 1 2 3 4 5 6 7]\n"
     ]
    }
   ],
   "source": [
    "# Verificar los valores únicos en la columna 'Education Level'\n",
    "print(\"Valores únicos en la columna 'Education Level':\")\n",
    "print(df['Education Level'].unique())\n"
   ]
  },
  {
   "cell_type": "markdown",
   "id": "a7d40858-25fa-4fee-a980-74acbe668757",
   "metadata": {},
   "source": [
    "# Mapeo de la Columna Education Level"
   ]
  },
  {
   "cell_type": "code",
   "execution_count": 8,
   "id": "1b84839d-7bcc-4222-a732-781c35c5bb3c",
   "metadata": {},
   "outputs": [
    {
     "name": "stdout",
     "output_type": "stream",
     "text": [
      "Valores de 'Education Level' después del mapeo:\n",
      "['Preprimaria' 'Educación Primaria' 'Educación Secundaria Inferior'\n",
      " 'Educación Secundaria Superior' 'Educación Postsecundaria No Terciaria'\n",
      " 'Educación Terciaria - Nivel Corto' 'Grado de Licenciatura o Equivalente'\n",
      " 'Maestría, Doctorado o Nivel Equivalente']\n"
     ]
    },
    {
     "data": {
      "text/html": [
       "<div>\n",
       "<style scoped>\n",
       "    .dataframe tbody tr th:only-of-type {\n",
       "        vertical-align: middle;\n",
       "    }\n",
       "\n",
       "    .dataframe tbody tr th {\n",
       "        vertical-align: top;\n",
       "    }\n",
       "\n",
       "    .dataframe thead th {\n",
       "        text-align: right;\n",
       "    }\n",
       "</style>\n",
       "<table border=\"1\" class=\"dataframe\">\n",
       "  <thead>\n",
       "    <tr style=\"text-align: right;\">\n",
       "      <th></th>\n",
       "      <th>Frequency</th>\n",
       "      <th>Territorial Level</th>\n",
       "      <th>Location</th>\n",
       "      <th>Territorial Typology</th>\n",
       "      <th>Measure</th>\n",
       "      <th>Age</th>\n",
       "      <th>Sex</th>\n",
       "      <th>Education Level</th>\n",
       "      <th>Statistical Operation</th>\n",
       "      <th>Unit Measure</th>\n",
       "      <th>Year</th>\n",
       "      <th>Value</th>\n",
       "    </tr>\n",
       "  </thead>\n",
       "  <tbody>\n",
       "    <tr>\n",
       "      <th>0</th>\n",
       "      <td>0</td>\n",
       "      <td>0</td>\n",
       "      <td>0</td>\n",
       "      <td>0</td>\n",
       "      <td>0</td>\n",
       "      <td>0</td>\n",
       "      <td>0</td>\n",
       "      <td>Preprimaria</td>\n",
       "      <td>0</td>\n",
       "      <td>0</td>\n",
       "      <td>0</td>\n",
       "      <td>1.409</td>\n",
       "    </tr>\n",
       "    <tr>\n",
       "      <th>1</th>\n",
       "      <td>0</td>\n",
       "      <td>0</td>\n",
       "      <td>0</td>\n",
       "      <td>0</td>\n",
       "      <td>0</td>\n",
       "      <td>0</td>\n",
       "      <td>0</td>\n",
       "      <td>Preprimaria</td>\n",
       "      <td>0</td>\n",
       "      <td>0</td>\n",
       "      <td>1</td>\n",
       "      <td>1.176</td>\n",
       "    </tr>\n",
       "    <tr>\n",
       "      <th>2</th>\n",
       "      <td>0</td>\n",
       "      <td>0</td>\n",
       "      <td>0</td>\n",
       "      <td>0</td>\n",
       "      <td>0</td>\n",
       "      <td>0</td>\n",
       "      <td>0</td>\n",
       "      <td>Preprimaria</td>\n",
       "      <td>0</td>\n",
       "      <td>0</td>\n",
       "      <td>2</td>\n",
       "      <td>1.187</td>\n",
       "    </tr>\n",
       "    <tr>\n",
       "      <th>3</th>\n",
       "      <td>0</td>\n",
       "      <td>0</td>\n",
       "      <td>0</td>\n",
       "      <td>0</td>\n",
       "      <td>0</td>\n",
       "      <td>0</td>\n",
       "      <td>0</td>\n",
       "      <td>Preprimaria</td>\n",
       "      <td>0</td>\n",
       "      <td>0</td>\n",
       "      <td>3</td>\n",
       "      <td>1.022</td>\n",
       "    </tr>\n",
       "    <tr>\n",
       "      <th>4</th>\n",
       "      <td>0</td>\n",
       "      <td>0</td>\n",
       "      <td>0</td>\n",
       "      <td>0</td>\n",
       "      <td>0</td>\n",
       "      <td>0</td>\n",
       "      <td>0</td>\n",
       "      <td>Preprimaria</td>\n",
       "      <td>0</td>\n",
       "      <td>0</td>\n",
       "      <td>4</td>\n",
       "      <td>1.277</td>\n",
       "    </tr>\n",
       "  </tbody>\n",
       "</table>\n",
       "</div>"
      ],
      "text/plain": [
       "   Frequency  Territorial Level  Location  Territorial Typology  Measure  Age  \\\n",
       "0          0                  0         0                     0        0    0   \n",
       "1          0                  0         0                     0        0    0   \n",
       "2          0                  0         0                     0        0    0   \n",
       "3          0                  0         0                     0        0    0   \n",
       "4          0                  0         0                     0        0    0   \n",
       "\n",
       "   Sex Education Level  Statistical Operation  Unit Measure  Year  Value  \n",
       "0    0     Preprimaria                      0             0     0  1.409  \n",
       "1    0     Preprimaria                      0             0     1  1.176  \n",
       "2    0     Preprimaria                      0             0     2  1.187  \n",
       "3    0     Preprimaria                      0             0     3  1.022  \n",
       "4    0     Preprimaria                      0             0     4  1.277  "
      ]
     },
     "execution_count": 8,
     "metadata": {},
     "output_type": "execute_result"
    }
   ],
   "source": [
    "# Mapeo de valores numéricos a descripciones textuales basadas en ISCED\n",
    "education_level_mapping = {\n",
    "    0: \"Preprimaria\",\n",
    "    1: \"Educación Primaria\",\n",
    "    2: \"Educación Secundaria Inferior\",\n",
    "    3: \"Educación Secundaria Superior\",\n",
    "    4: \"Educación Postsecundaria No Terciaria\",\n",
    "    5: \"Educación Terciaria - Nivel Corto\",\n",
    "    6: \"Grado de Licenciatura o Equivalente\",\n",
    "    7: \"Maestría, Doctorado o Nivel Equivalente\"\n",
    "}\n",
    "\n",
    "# Reemplazar los valores en la columna 'Education Level' con las descripciones textuales\n",
    "df['Education Level'] = df['Education Level'].map(education_level_mapping)\n",
    "\n",
    "# Verificar los cambios en la columna\n",
    "print(\"Valores de 'Education Level' después del mapeo:\")\n",
    "print(df['Education Level'].unique())\n",
    "\n",
    "# Visualizar las primeras filas del DataFrame después del mapeo\n",
    "df.head()\n"
   ]
  },
  {
   "cell_type": "markdown",
   "id": "c3020f04-c12c-4b4d-8324-f93e3f383ec3",
   "metadata": {},
   "source": [
    "# Identificar Valores Únicos en Todas las Columnas"
   ]
  },
  {
   "cell_type": "code",
   "execution_count": 10,
   "id": "eb13075b-fc8c-4dc6-a24d-6a45fb293e8f",
   "metadata": {},
   "outputs": [
    {
     "name": "stdout",
     "output_type": "stream",
     "text": [
      "Valores únicos en la columna 'Frequency': [0]\n",
      "Valores únicos en la columna 'Territorial Level': [0 1 2]\n",
      "Valores únicos en la columna 'Location': [  0   1   2   3   4   5   6   7   8   9  10  11  12  13  14  15  16  17\n",
      "  18  19  20  21  22  23  24  25  26  27  28  29  30  31  32  33  34  35\n",
      "  36  37  38  39  40  41  42  43  44  45  46  47  48  49  50  51  52  53\n",
      "  54  55  56  57  58  59  60  61  62  63  64  65  66  67  68  69  70  71\n",
      "  72  73  74  75  76  77  78  79  80  81  82  83  84  85  86  87  88  89\n",
      "  90  91  92  93  94  95  96  97  98  99 100 101 102 103 104 105 106 107\n",
      " 108 109 110 111 112 113 114 115 116 117 118 119 120 121 122 123 124 125\n",
      " 126 127 128 129 130 131 132 133 134 135 136 137 138 139 140 141 142 143\n",
      " 144 145 146 147 148 149 150 151 152 153 154 155 156 157 158 159 160 161\n",
      " 162 163 164 165 166 167 168 169 170 171 172 173 174 175 176 177 178 179\n",
      " 180 181 182 183 184 185 186 187 188 189 190 191 192 193 194 195 196 197\n",
      " 198 199 200 201 202 203 204 205 206 207 208 209 210 211 212 213 214 215\n",
      " 216 217 218 219 220 221 222 223 224 225 226 227 228 229 230 231 232 233\n",
      " 234 235 236 237 238 239 240 241 242 243 244 245 246 247 248 249 250 251\n",
      " 252 253 254 255 256 257 258 259 260 261 262 263 264 265 266 267 268 269\n",
      " 270 271 272 273 274 275 276 277 278 279 280 281 282 283 284 285 286 287\n",
      " 288 289 290 291 292 293 294 295 296 297 298 299 300 301 302 303 304 305\n",
      " 306 307 308 309 310 311 312 313 314 315 316 317 318 319 320 321 322 323\n",
      " 324 325 326 327 328 329 330 331 332 333 334 335 336 337 338 339 340 341\n",
      " 342 343 344 345 346 347 348 349 350 351 352 353 354 355 356 357 358 359\n",
      " 360 361 362 363 364 365 366 367 368 369 370 371 372 373 374 375 376 377\n",
      " 378 379 380 381 382 383 384 385 386 387 388 389 390 391 392 393 394 395\n",
      " 396 397 398 399 400 401 402 403 404 405 406 407 408 409 410 411 412 413\n",
      " 414 415 416 417 418 419 420 421 422 423 424 425 426 427 428 429 430 431\n",
      " 432 433 434 435 436 437 438 439 440 441 442 443 444 445 446 447 448 449\n",
      " 450 451 452 453 454 455 456 457 458 459 460 461 462 463 464 465 466 467\n",
      " 468 469 470 471 472 473 474 475 476 477 478 479 480 481 482 483 484 485\n",
      " 486 487 488 489 490 491 492 493 494 495 496 497 498 499 500 501 502 503\n",
      " 504 505 506 507 508 509 510 511 512 513 514 515 516 517 518 519 520 521\n",
      " 522 523 524 525 526 527 528 529 530 531 532 533 534 535 536 537 538 539\n",
      " 540 541 542 543 544 545 546 547 548 549 550 551 552 553 554 555 556 557\n",
      " 558 559 560 561 562 563 564 565 566 567 568 569 570 571 572 573 574 575\n",
      " 576 577 578 579 580 581 582 583 584 585 586 587 588 589 590 591 592 593\n",
      " 594 595 596 597 598 599 600 601 602 603 604 605 606 607 608 609 610 611\n",
      " 612 613 614 615 616 617 618 619 620 621 622 623 624 625 626 627 628 629\n",
      " 630 631 632 633 634 635 636 637 638 639 640 641 642 643 644 645 646 647\n",
      " 648 649 650 651 652 653 654 655 656 657 658 659 660 661 662 663 664 665\n",
      " 666 667 668 669 670 671 672 673 674 675 676 677 678 679 680 681 682 683\n",
      " 684 685 686 687 688 689 690 691 692 693 694 695 696 697 698 699 700 701\n",
      " 702 703 704 705 706 707 708 709 710 711 712 713 714 715 716 717 718 719\n",
      " 720 721 722 723 724 725 726 727 728 729 730 731 732 733 734 735 736 737\n",
      " 738 739 740 741 742 743 744 745 746 747 748 749 750 751 752 753 754 755\n",
      " 756 757 758 759 760 761 762 763 764 765 766 767 768 769 770 771 772 773\n",
      " 774 775 776 777 778 779 780 781 782 783 784 785 786 787 788 789 790 791\n",
      " 792 793 794 795 796 797 798 799 800 801 802 803 804 805 806 807 808 809\n",
      " 810 811 812 813 814 815 816 817 818 819 820 821 822 823 824 825 826 827\n",
      " 828 829 830 831 832 833 834 835 836 837 838 839 840 841 842 843 844 845\n",
      " 846 847 848 849 850 851 852 853 854 855 856 857 858 859 860 861 862 863\n",
      " 864 865 866 867 868 869 870 871 872 873 874 875 876 877 878 879 880 881\n",
      " 882 883 884 885 886 887 888 889 890 891 892 893 894 895 896 897 898 899\n",
      " 900 901]\n",
      "Valores únicos en la columna 'Territorial Typology': [0]\n",
      "Valores únicos en la columna 'Measure': [0]\n",
      "Valores únicos en la columna 'Age': [0 1]\n",
      "Valores únicos en la columna 'Sex': [0 1 2]\n",
      "Valores únicos en la columna 'Statistical Operation': [0 1]\n",
      "Valores únicos en la columna 'Unit Measure': [0]\n",
      "Valores únicos en la columna 'Year': [ 0  1  2  3  4  5  6  7  8  9 10]\n"
     ]
    }
   ],
   "source": [
    "# Verificar valores únicos en columnas clave para determinar si los ceros representan valores válidos o si son placeholders\n",
    "print(\"Valores únicos en la columna 'Frequency':\", df['Frequency'].unique())\n",
    "print(\"Valores únicos en la columna 'Territorial Level':\", df['Territorial Level'].unique())\n",
    "print(\"Valores únicos en la columna 'Location':\", df['Location'].unique())\n",
    "print(\"Valores únicos en la columna 'Territorial Typology':\", df['Territorial Typology'].unique())\n",
    "print(\"Valores únicos en la columna 'Measure':\", df['Measure'].unique())\n",
    "print(\"Valores únicos en la columna 'Age':\", df['Age'].unique())\n",
    "print(\"Valores únicos en la columna 'Sex':\", df['Sex'].unique())\n",
    "print(\"Valores únicos en la columna 'Statistical Operation':\", df['Statistical Operation'].unique())\n",
    "print(\"Valores únicos en la columna 'Unit Measure':\", df['Unit Measure'].unique())\n",
    "print(\"Valores únicos en la columna 'Year':\", df['Year'].unique())\n"
   ]
  },
  {
   "cell_type": "markdown",
   "id": "e151eb9a-8fe6-4baf-940c-8d539f49d098",
   "metadata": {},
   "source": [
    "# Eliminar Columnas sin Datos"
   ]
  },
  {
   "cell_type": "code",
   "execution_count": 12,
   "id": "ce94d959-e44d-410a-8112-74d53bcf45ff",
   "metadata": {},
   "outputs": [
    {
     "name": "stdout",
     "output_type": "stream",
     "text": [
      "DataFrame después de eliminar columnas irrelevantes:\n",
      "   Territorial Level  Location  Age  Sex Education Level  \\\n",
      "0                  0         0    0    0     Preprimaria   \n",
      "1                  0         0    0    0     Preprimaria   \n",
      "2                  0         0    0    0     Preprimaria   \n",
      "3                  0         0    0    0     Preprimaria   \n",
      "4                  0         0    0    0     Preprimaria   \n",
      "\n",
      "   Statistical Operation  Year  Value  \n",
      "0                      0     0  1.409  \n",
      "1                      0     1  1.176  \n",
      "2                      0     2  1.187  \n",
      "3                      0     3  1.022  \n",
      "4                      0     4  1.277  \n",
      "Valores únicos en la columna 'Location': [  0   1   2   3   4   5   6   7   8   9  10  11  12  13  14  15  16  17\n",
      "  18  19  20  21  22  23  24  25  26  27  28  29  30  31  32  33  34  35\n",
      "  36  37  38  39  40  41  42  43  44  45  46  47  48  49  50  51  52  53\n",
      "  54  55  56  57  58  59  60  61  62  63  64  65  66  67  68  69  70  71\n",
      "  72  73  74  75  76  77  78  79  80  81  82  83  84  85  86  87  88  89\n",
      "  90  91  92  93  94  95  96  97  98  99 100 101 102 103 104 105 106 107\n",
      " 108 109 110 111 112 113 114 115 116 117 118 119 120 121 122 123 124 125\n",
      " 126 127 128 129 130 131 132 133 134 135 136 137 138 139 140 141 142 143\n",
      " 144 145 146 147 148 149 150 151 152 153 154 155 156 157 158 159 160 161\n",
      " 162 163 164 165 166 167 168 169 170 171 172 173 174 175 176 177 178 179\n",
      " 180 181 182 183 184 185 186 187 188 189 190 191 192 193 194 195 196 197\n",
      " 198 199 200 201 202 203 204 205 206 207 208 209 210 211 212 213 214 215\n",
      " 216 217 218 219 220 221 222 223 224 225 226 227 228 229 230 231 232 233\n",
      " 234 235 236 237 238 239 240 241 242 243 244 245 246 247 248 249 250 251\n",
      " 252 253 254 255 256 257 258 259 260 261 262 263 264 265 266 267 268 269\n",
      " 270 271 272 273 274 275 276 277 278 279 280 281 282 283 284 285 286 287\n",
      " 288 289 290 291 292 293 294 295 296 297 298 299 300 301 302 303 304 305\n",
      " 306 307 308 309 310 311 312 313 314 315 316 317 318 319 320 321 322 323\n",
      " 324 325 326 327 328 329 330 331 332 333 334 335 336 337 338 339 340 341\n",
      " 342 343 344 345 346 347 348 349 350 351 352 353 354 355 356 357 358 359\n",
      " 360 361 362 363 364 365 366 367 368 369 370 371 372 373 374 375 376 377\n",
      " 378 379 380 381 382 383 384 385 386 387 388 389 390 391 392 393 394 395\n",
      " 396 397 398 399 400 401 402 403 404 405 406 407 408 409 410 411 412 413\n",
      " 414 415 416 417 418 419 420 421 422 423 424 425 426 427 428 429 430 431\n",
      " 432 433 434 435 436 437 438 439 440 441 442 443 444 445 446 447 448 449\n",
      " 450 451 452 453 454 455 456 457 458 459 460 461 462 463 464 465 466 467\n",
      " 468 469 470 471 472 473 474 475 476 477 478 479 480 481 482 483 484 485\n",
      " 486 487 488 489 490 491 492 493 494 495 496 497 498 499 500 501 502 503\n",
      " 504 505 506 507 508 509 510 511 512 513 514 515 516 517 518 519 520 521\n",
      " 522 523 524 525 526 527 528 529 530 531 532 533 534 535 536 537 538 539\n",
      " 540 541 542 543 544 545 546 547 548 549 550 551 552 553 554 555 556 557\n",
      " 558 559 560 561 562 563 564 565 566 567 568 569 570 571 572 573 574 575\n",
      " 576 577 578 579 580 581 582 583 584 585 586 587 588 589 590 591 592 593\n",
      " 594 595 596 597 598 599 600 601 602 603 604 605 606 607 608 609 610 611\n",
      " 612 613 614 615 616 617 618 619 620 621 622 623 624 625 626 627 628 629\n",
      " 630 631 632 633 634 635 636 637 638 639 640 641 642 643 644 645 646 647\n",
      " 648 649 650 651 652 653 654 655 656 657 658 659 660 661 662 663 664 665\n",
      " 666 667 668 669 670 671 672 673 674 675 676 677 678 679 680 681 682 683\n",
      " 684 685 686 687 688 689 690 691 692 693 694 695 696 697 698 699 700 701\n",
      " 702 703 704 705 706 707 708 709 710 711 712 713 714 715 716 717 718 719\n",
      " 720 721 722 723 724 725 726 727 728 729 730 731 732 733 734 735 736 737\n",
      " 738 739 740 741 742 743 744 745 746 747 748 749 750 751 752 753 754 755\n",
      " 756 757 758 759 760 761 762 763 764 765 766 767 768 769 770 771 772 773\n",
      " 774 775 776 777 778 779 780 781 782 783 784 785 786 787 788 789 790 791\n",
      " 792 793 794 795 796 797 798 799 800 801 802 803 804 805 806 807 808 809\n",
      " 810 811 812 813 814 815 816 817 818 819 820 821 822 823 824 825 826 827\n",
      " 828 829 830 831 832 833 834 835 836 837 838 839 840 841 842 843 844 845\n",
      " 846 847 848 849 850 851 852 853 854 855 856 857 858 859 860 861 862 863\n",
      " 864 865 866 867 868 869 870 871 872 873 874 875 876 877 878 879 880 881\n",
      " 882 883 884 885 886 887 888 889 890 891 892 893 894 895 896 897 898 899\n",
      " 900 901]\n",
      "Valores únicos en la columna 'Age': [0 1]\n",
      "Valores únicos en la columna 'Sex': [0 1 2]\n",
      "Valores únicos en la columna 'Year': [ 0  1  2  3  4  5  6  7  8  9 10]\n"
     ]
    }
   ],
   "source": [
    "# Eliminar columnas irrelevantes que solo contienen el valor 0\n",
    "df = df.drop(columns=['Frequency', 'Territorial Typology', 'Measure', 'Unit Measure'])\n",
    "\n",
    "# Mostrar las primeras filas después de eliminar columnas para verificar cambios\n",
    "print(\"DataFrame después de eliminar columnas irrelevantes:\")\n",
    "print(df.head())\n",
    "\n",
    "# Valores únicos en 'Location', 'Age', 'Sex', y 'Year' para verificación adicional\n",
    "print(\"Valores únicos en la columna 'Location':\", df['Location'].unique())\n",
    "print(\"Valores únicos en la columna 'Age':\", df['Age'].unique())\n",
    "print(\"Valores únicos en la columna 'Sex':\", df['Sex'].unique())\n",
    "print(\"Valores únicos en la columna 'Year':\", df['Year'].unique())\n"
   ]
  },
  {
   "cell_type": "markdown",
   "id": "de3a1bac-4465-4d1e-9043-2ce035ddbe52",
   "metadata": {},
   "source": [
    "# Mapeo de Columnas Age y Sex"
   ]
  },
  {
   "cell_type": "code",
   "execution_count": 14,
   "id": "e31e5809-4159-4192-8182-b1bd523ed0f4",
   "metadata": {},
   "outputs": [
    {
     "name": "stdout",
     "output_type": "stream",
     "text": [
      "Valores únicos en la columna 'Age' después del mapeo: ['Grupo de Edad 1' 'Grupo de Edad 2']\n",
      "Valores únicos en la columna 'Sex' después del mapeo: ['Desconocido' 'Masculino' 'Femenino']\n"
     ]
    }
   ],
   "source": [
    "# Mapeo para la columna 'Age'\n",
    "age_mapping = {\n",
    "    0: \"Grupo de Edad 1\",  \n",
    "    1: \"Grupo de Edad 2\"\n",
    "}\n",
    "df['Age'] = df['Age'].map(age_mapping)\n",
    "\n",
    "# Mapeo para la columna 'Sex'\n",
    "sex_mapping = {\n",
    "    0: \"Desconocido\",  \n",
    "    1: \"Masculino\",\n",
    "    2: \"Femenino\"\n",
    "}\n",
    "df['Sex'] = df['Sex'].map(sex_mapping)\n",
    "\n",
    "# Verificar los cambios en las columnas\n",
    "print(\"Valores únicos en la columna 'Age' después del mapeo:\", df['Age'].unique())\n",
    "print(\"Valores únicos en la columna 'Sex' después del mapeo:\", df['Sex'].unique())\n"
   ]
  },
  {
   "cell_type": "markdown",
   "id": "f27ad414-39e2-4033-aa15-9d372222c77f",
   "metadata": {},
   "source": [
    "# Mapeo de Columna Year"
   ]
  },
  {
   "cell_type": "code",
   "execution_count": 16,
   "id": "aec8934e-010f-4072-b64c-b9ad91be5f8d",
   "metadata": {},
   "outputs": [
    {
     "name": "stdout",
     "output_type": "stream",
     "text": [
      "Valores únicos en la columna 'Year' después del mapeo: [2013 2014 2015 2016 2017 2018 2019 2020 2021 2022 2023]\n"
     ]
    }
   ],
   "source": [
    "# Mapeo de la columna 'Year' asumiendo que 0 corresponde a 2013, lo sabemos gracias a la documentación de la API\n",
    "year_mapping = {i: 2013 + i for i in range(11)}\n",
    "df['Year'] = df['Year'].map(year_mapping)\n",
    "\n",
    "# Verificar el cambio en la columna 'Year'\n",
    "print(\"Valores únicos en la columna 'Year' después del mapeo:\", df['Year'].unique())\n"
   ]
  },
  {
   "cell_type": "markdown",
   "id": "915a8e3a-afd3-40cf-af42-8091d426090c",
   "metadata": {},
   "source": [
    "# Convertir valores para evitar errores de conversión"
   ]
  },
  {
   "cell_type": "code",
   "execution_count": 18,
   "id": "fefa153c-f030-4a2a-bf92-e96e8657d7ed",
   "metadata": {},
   "outputs": [],
   "source": [
    "# Convertir la columna 'Value' a numérico y eliminar posibles errores de conversión\n",
    "df['Value'] = pd.to_numeric(df['Value'], errors='coerce')\n"
   ]
  },
  {
   "cell_type": "code",
   "execution_count": 19,
   "id": "56c7752e-5492-4e8a-bd54-0bbeb28e0be3",
   "metadata": {},
   "outputs": [],
   "source": [
    "# Convertir la columna 'Year' a int si aún no lo está\n",
    "df['Year'] = df['Year'].astype(int)\n"
   ]
  },
  {
   "cell_type": "markdown",
   "id": "b2e48d30-d332-4099-bcf6-9f5369029b95",
   "metadata": {},
   "source": [
    "# Eliminar Filas con Valores Nulos"
   ]
  },
  {
   "cell_type": "code",
   "execution_count": 21,
   "id": "41f3414c-73f6-4207-a9e1-a3c453c7913a",
   "metadata": {},
   "outputs": [],
   "source": [
    "# Eliminar filas con valores nulos en columnas críticas\n",
    "df = df.dropna(subset=['Location', 'Value', 'Year'])\n"
   ]
  },
  {
   "cell_type": "markdown",
   "id": "24e0a601-a9cc-428a-9600-69748183d4e9",
   "metadata": {},
   "source": [
    "# Verificar limpieza de DataFrame"
   ]
  },
  {
   "cell_type": "code",
   "execution_count": 23,
   "id": "b5638da7-5548-4f70-864f-562ab6244151",
   "metadata": {},
   "outputs": [
    {
     "name": "stdout",
     "output_type": "stream",
     "text": [
      "<class 'pandas.core.frame.DataFrame'>\n",
      "RangeIndex: 215469 entries, 0 to 215468\n",
      "Data columns (total 8 columns):\n",
      " #   Column                 Non-Null Count   Dtype  \n",
      "---  ------                 --------------   -----  \n",
      " 0   Territorial Level      215469 non-null  int64  \n",
      " 1   Location               215469 non-null  int64  \n",
      " 2   Age                    215469 non-null  object \n",
      " 3   Sex                    215469 non-null  object \n",
      " 4   Education Level        215469 non-null  object \n",
      " 5   Statistical Operation  215469 non-null  int64  \n",
      " 6   Year                   215469 non-null  int64  \n",
      " 7   Value                  215469 non-null  float64\n",
      "dtypes: float64(1), int64(4), object(3)\n",
      "memory usage: 13.2+ MB\n",
      "None\n",
      "   Territorial Level  Location              Age          Sex Education Level  \\\n",
      "0                  0         0  Grupo de Edad 1  Desconocido     Preprimaria   \n",
      "1                  0         0  Grupo de Edad 1  Desconocido     Preprimaria   \n",
      "2                  0         0  Grupo de Edad 1  Desconocido     Preprimaria   \n",
      "3                  0         0  Grupo de Edad 1  Desconocido     Preprimaria   \n",
      "4                  0         0  Grupo de Edad 1  Desconocido     Preprimaria   \n",
      "\n",
      "   Statistical Operation  Year  Value  \n",
      "0                      0  2013  1.409  \n",
      "1                      0  2014  1.176  \n",
      "2                      0  2015  1.187  \n",
      "3                      0  2016  1.022  \n",
      "4                      0  2017  1.277  \n"
     ]
    }
   ],
   "source": [
    "# Verificación final de la estructura del DataFrame\n",
    "print(df.info())\n",
    "print(df.head())\n"
   ]
  },
  {
   "cell_type": "code",
   "execution_count": 24,
   "id": "48f32823-076b-43d7-a27e-557189015c5a",
   "metadata": {},
   "outputs": [
    {
     "name": "stdout",
     "output_type": "stream",
     "text": [
      "El archivo se ha guardado como 'ocde_data_education_cleaned.csv'\n"
     ]
    }
   ],
   "source": [
    "# Exportar el DataFrame limpio a un archivo CSV\n",
    "df.to_csv('ocde_data_education_cleaned.csv', index=False)\n",
    "\n",
    "print(\"El archivo se ha guardado como 'ocde_data_education_cleaned.csv'\")\n"
   ]
  },
  {
   "cell_type": "markdown",
   "id": "bcbae447-e4fc-4c26-924e-57ad8290b5a8",
   "metadata": {},
   "source": [
    "# Nuevo Mapeo d ela Columna Age (con info de la \"description\")"
   ]
  },
  {
   "cell_type": "code",
   "execution_count": 25,
   "id": "42055286-b867-4053-b911-8f78471c4826",
   "metadata": {},
   "outputs": [
    {
     "name": "stdout",
     "output_type": "stream",
     "text": [
      "Valores únicos en la columna 'Age' después del mapeo: ['25-34 años' '25-64 años']\n"
     ]
    }
   ],
   "source": [
    "# nuevo mapeo de la columana Age con la info de la \"decription\" del dataset\n",
    "# Grupo de Edad 1: Representa el rango de 25 a 34 años.\n",
    "# Grupo de Edad 2: Representa el rango de 25 a 64 años.\n",
    "# Actualizar el mapeo en la columna 'Age' para reflejar los rangos de edad correctos\n",
    "\n",
    "age_mapping = {\n",
    "    \"Grupo de Edad 1\": \"25-34 años\",\n",
    "    \"Grupo de Edad 2\": \"25-64 años\"\n",
    "}\n",
    "df['Age'] = df['Age'].map(age_mapping)\n",
    "\n",
    "# Verificar los cambios en la columna 'Age'\n",
    "print(\"Valores únicos en la columna 'Age' después del mapeo:\", df['Age'].unique())\n",
    "\n"
   ]
  },
  {
   "cell_type": "markdown",
   "id": "c4d1b541-29e1-4822-8060-5c3eaa339ccf",
   "metadata": {},
   "source": [
    "# Exportar DataFrame limpio a CSV"
   ]
  },
  {
   "cell_type": "code",
   "execution_count": 26,
   "id": "011aa487-ec13-47b3-bc57-b626a23e338f",
   "metadata": {},
   "outputs": [
    {
     "name": "stdout",
     "output_type": "stream",
     "text": [
      "El archivo se ha guardado como 'ocde_data_nivel_de_educacion_y_edades_vr_empleabilidad_cleaned.csv'\n"
     ]
    }
   ],
   "source": [
    "# Exportar el DataFrame actualizado a un archivo CSV\n",
    "df.to_csv('ocde_data_nivel_de_educacion_y_edades_vr_empleabilidad_cleaned.csv', index=False)\n",
    "\n",
    "print(\"El archivo se ha guardado como 'ocde_data_nivel_de_educacion_y_edades_vr_empleabilidad_cleaned.csv'\")\n"
   ]
  },
  {
   "cell_type": "code",
   "execution_count": null,
   "id": "83ad6459-e0f7-420b-ad36-16d2db090c42",
   "metadata": {},
   "outputs": [],
   "source": []
  }
 ],
 "metadata": {
  "kernelspec": {
   "display_name": "Python 3 (ipykernel)",
   "language": "python",
   "name": "python3"
  },
  "language_info": {
   "codemirror_mode": {
    "name": "ipython",
    "version": 3
   },
   "file_extension": ".py",
   "mimetype": "text/x-python",
   "name": "python",
   "nbconvert_exporter": "python",
   "pygments_lexer": "ipython3",
   "version": "3.12.4"
  }
 },
 "nbformat": 4,
 "nbformat_minor": 5
}
